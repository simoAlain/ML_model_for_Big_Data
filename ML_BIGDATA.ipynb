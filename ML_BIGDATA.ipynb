{
 "cells": [
  {
   "cell_type": "code",
   "execution_count": 4,
   "metadata": {
    "id": "cfmvYN84fnGn"
   },
   "outputs": [],
   "source": [
    "#We begin by importing necessary library\n",
    "import pandas as pd\n",
    "from sklearn.ensemble import RandomForestClassifier  as RF\n",
    "from sklearn.model_selection import KFold, train_test_split\n",
    "import datetime\n",
    "\n",
    "from pyspark.sql import SparkSession\n",
    "from pyspark.ml import Pipeline\n",
    "from pyspark.ml.classification import RandomForestClassifier\n",
    "from pyspark.ml.feature import IndexToString, StringIndexer, VectorIndexer, VectorAssembler,OneHotEncoder\n",
    "from pyspark.ml.evaluation import MulticlassClassificationEvaluator"
   ]
  },
  {
   "cell_type": "code",
   "execution_count": 3,
   "metadata": {
    "colab": {
     "base_uri": "https://localhost:8080/"
    },
    "id": "HRdCsc5PhhI0",
    "outputId": "6c1369d7-ca3d-45a4-ab06-ef1a01cbfc03"
   },
   "outputs": [
    {
     "name": "stdout",
     "output_type": "stream",
     "text": [
      "Looking in indexes: https://pypi.org/simple, https://us-python.pkg.dev/colab-wheels/public/simple/\n",
      "Collecting pyspark\n",
      "  Downloading pyspark-3.3.2.tar.gz (281.4 MB)\n",
      "\u001b[2K     \u001b[90m━━━━━━━━━━━━━━━━━━━━━━━━━━━━━━━━━━━━━━━\u001b[0m \u001b[32m281.4/281.4 MB\u001b[0m \u001b[31m5.1 MB/s\u001b[0m eta \u001b[36m0:00:00\u001b[0m\n",
      "\u001b[?25h  Preparing metadata (setup.py) ... \u001b[?25l\u001b[?25hdone\n",
      "Collecting py4j==0.10.9.5\n",
      "  Downloading py4j-0.10.9.5-py2.py3-none-any.whl (199 kB)\n",
      "\u001b[2K     \u001b[90m━━━━━━━━━━━━━━━━━━━━━━━━━━━━━━━━━━━━━━\u001b[0m \u001b[32m199.7/199.7 KB\u001b[0m \u001b[31m25.7 MB/s\u001b[0m eta \u001b[36m0:00:00\u001b[0m\n",
      "\u001b[?25hBuilding wheels for collected packages: pyspark\n",
      "  Building wheel for pyspark (setup.py) ... \u001b[?25l\u001b[?25hdone\n",
      "  Created wheel for pyspark: filename=pyspark-3.3.2-py2.py3-none-any.whl size=281824025 sha256=a389c44801a25f8f2f9fbdb08c4e7c604f003823470292cf891101f43373c3f5\n",
      "  Stored in directory: /root/.cache/pip/wheels/b1/59/a0/a1a0624b5e865fd389919c1a10f53aec9b12195d6747710baf\n",
      "Successfully built pyspark\n",
      "Installing collected packages: py4j, pyspark\n",
      "Successfully installed py4j-0.10.9.5 pyspark-3.3.2\n"
     ]
    }
   ],
   "source": [
    "pip install pyspark"
   ]
  },
  {
   "cell_type": "code",
   "execution_count": 5,
   "metadata": {
    "id": "7r8aphfUhk7y"
   },
   "outputs": [],
   "source": [
    "# Still importing necessary library\n",
    "from pyspark.sql import SparkSession\n",
    "from pyspark.ml.evaluation import BinaryClassificationEvaluator\n",
    "from pyspark.ml.feature import VectorAssembler\n",
    "from pyspark.ml.classification import LogisticRegression"
   ]
  },
  {
   "cell_type": "code",
   "execution_count": 6,
   "metadata": {
    "id": "TLxiN5tMh_1g"
   },
   "outputs": [],
   "source": [
    "# Initializing a spark session\n",
    "spark = SparkSession.builder.master(\"local[*]\").appName(\"SimpleApp\").getOrCreate()"
   ]
  },
  {
   "cell_type": "code",
   "execution_count": 7,
   "metadata": {
    "id": "9hGmLUOUh_zO"
   },
   "outputs": [],
   "source": [
    "# Here the aim is to import the dataset from the drive\n",
    "from google.colab import drive"
   ]
  },
  {
   "cell_type": "code",
   "execution_count": 9,
   "metadata": {
    "colab": {
     "base_uri": "https://localhost:8080/"
    },
    "id": "0_pcbu5th_w9",
    "outputId": "e8fd838e-4d4b-4e6f-ddc5-acbb2698e3ca"
   },
   "outputs": [
    {
     "name": "stdout",
     "output_type": "stream",
     "text": [
      "Mounted at /content/drive\n"
     ]
    }
   ],
   "source": [
    "drive.mount('/content/drive')"
   ]
  },
  {
   "cell_type": "code",
   "execution_count": 10,
   "metadata": {
    "id": "lleRyWuyh_uY"
   },
   "outputs": [],
   "source": [
    "from IPython.utils.text import Path\n",
    "DATA_DIR = Path().cwd().joinpath(\"drive\")"
   ]
  },
  {
   "cell_type": "code",
   "execution_count": 11,
   "metadata": {
    "id": "uWgiEvvHh_r2"
   },
   "outputs": [],
   "source": [
    "DATA_ML = DATA_DIR.joinpath(\"MyDrive\",\"hh_data_ml.csv\")"
   ]
  },
  {
   "cell_type": "code",
   "execution_count": 12,
   "metadata": {
    "id": "ghOlmXdih_pI"
   },
   "outputs": [],
   "source": [
    "# Importing the dataset and storing it in an object\n",
    "sdf = spark.read.csv(\"/content/drive/MyDrive/hh_data_ml.csv\",header=True,sep=\"|\",inferSchema=True)"
   ]
  },
  {
   "cell_type": "code",
   "execution_count": 13,
   "metadata": {
    "colab": {
     "base_uri": "https://localhost:8080/"
    },
    "id": "hWLs7cqTmCIr",
    "outputId": "265657ce-9f61-4280-be26-909ac86f28b0"
   },
   "outputs": [
    {
     "name": "stdout",
     "output_type": "stream",
     "text": [
      "root\n",
      " |-- _c0: integer (nullable = true)\n",
      " |-- prov_id: integer (nullable = true)\n",
      " |-- reg_id: integer (nullable = true)\n",
      " |-- dist_id: integer (nullable = true)\n",
      " |-- adm4: integer (nullable = true)\n",
      " |-- urban_rural: integer (nullable = true)\n",
      " |-- hh_id: decimal(26,0) (nullable = true)\n",
      " |-- P03: integer (nullable = true)\n",
      " |-- P05: integer (nullable = true)\n",
      " |-- P07M: integer (nullable = true)\n",
      " |-- P07A: integer (nullable = true)\n",
      " |-- P08: string (nullable = true)\n",
      " |-- lan_spoken_local: string (nullable = true)\n",
      " |-- lan_spoken_fr: string (nullable = true)\n",
      " |-- lan_spoken_en: string (nullable = true)\n",
      " |-- lan_spoken_other: string (nullable = true)\n",
      " |-- lan_read_write_local: string (nullable = true)\n",
      " |-- lan_read_write_fr: string (nullable = true)\n",
      " |-- lan_read_write_en: string (nullable = true)\n",
      " |-- lan_read_write_other: string (nullable = true)\n",
      " |-- P21: string (nullable = true)\n",
      " |-- P22N: string (nullable = true)\n",
      " |-- P23: string (nullable = true)\n",
      " |-- P25: string (nullable = true)\n",
      " |-- P28: string (nullable = true)\n",
      " |-- P29: string (nullable = true)\n",
      " |-- change_log: string (nullable = true)\n",
      "\n"
     ]
    }
   ],
   "source": [
    "# Looking into the dataset to determine its structure\n",
    "sdf.printSchema()"
   ]
  },
  {
   "cell_type": "code",
   "execution_count": 14,
   "metadata": {
    "colab": {
     "base_uri": "https://localhost:8080/"
    },
    "id": "Kki0eTb18J8f",
    "outputId": "ada20101-085c-410b-9aa8-13a24965585c"
   },
   "outputs": [
    {
     "name": "stdout",
     "output_type": "stream",
     "text": [
      "+---+-------+------+-------+----+-----------+-----+---+---+----+----+---+----------------+-------------+-------------+----------------+--------------------+-----------------+-----------------+--------------------+-------+-------+-------+--------+-------+--------+----------+\n",
      "|_c0|prov_id|reg_id|dist_id|adm4|urban_rural|hh_id|P03|P05|P07M|P07A|P08|lan_spoken_local|lan_spoken_fr|lan_spoken_en|lan_spoken_other|lan_read_write_local|lan_read_write_fr|lan_read_write_en|lan_read_write_other|    P21|   P22N|    P23|     P25|    P28|     P29|change_log|\n",
      "+---+-------+------+-------+----+-----------+-----+---+---+----+----+---+----------------+-------------+-------------+----------------+--------------------+-----------------+-----------------+--------------------+-------+-------+-------+--------+-------+--------+----------+\n",
      "|  0|      0|     0|      0|   0|          0|    0|  0|  0|   0|   0|881|         2165987|      2166013|      2166021|         2166030|             2165457|          2165466|          2165471|             2165489|2165345|7981271|3705803|14444046|8630213|15332430|         0|\n",
      "+---+-------+------+-------+----+-----------+-----+---+---+----+----+---+----------------+-------------+-------------+----------------+--------------------+-----------------+-----------------+--------------------+-------+-------+-------+--------+-------+--------+----------+\n",
      "\n"
     ]
    }
   ],
   "source": [
    "# Here we are looking at the number of missing values per column\n",
    "from pyspark.sql.functions import col,isnan,when,count\n",
    "df2 = sdf.select([count(when(col(c).contains('None') | \\\n",
    "                            col(c).contains('NULL') | \\\n",
    "                            (col(c) == ' ' ) | \\\n",
    "                            col(c).isNull() | \\\n",
    "                            isnan(c), c \n",
    "                           )).alias(c)\n",
    "                    for c in sdf.columns])\n",
    "df2.show()"
   ]
  },
  {
   "cell_type": "markdown",
   "metadata": {
    "id": "p9gLOAuT9SZ4"
   },
   "source": [
    "The result of the code above shows the number of missing values per column. we are getting rid of the column whose number of missing values is greater that that of the target. These colimns are \"P25\", \"P28\", and \"P29\". . The number of missing obeservations for the target is 2165345, while the number of missing observations for P25, P28, and P29 are 3705803, 14444406 and 15332430 respectively.We futhermore decided to also remove \"_c0\" and \"change_log\". In the next step, we replace missing observations by \"null\" and we get also rid of them.\n"
   ]
  },
  {
   "cell_type": "code",
   "execution_count": 15,
   "metadata": {
    "id": "u9wIrLeGmB9I"
   },
   "outputs": [],
   "source": [
    "# After doing necessary feature engineering, we proceed by deleting some column. It doesn't excludes that they are still missing values\n",
    "sdf = sdf.drop('P25','P28','P29','change_log','_c0')"
   ]
  },
  {
   "cell_type": "markdown",
   "metadata": {
    "id": "KwcBP-wL-2SO"
   },
   "source": [
    "Now we look at the missing values per rows and delete them"
   ]
  },
  {
   "cell_type": "code",
   "execution_count": 18,
   "metadata": {
    "id": "l5BPOVtl-vet"
   },
   "outputs": [],
   "source": [
    "#to replace empty spaces by null\n",
    "from pyspark.sql.functions import col,when\n",
    "sdf_null=sdf.select([when(col(c)==\" \",None).otherwise(col(c)).\\\n",
    "                       alias(c) for c in sdf.columns])"
   ]
  },
  {
   "cell_type": "code",
   "execution_count": 43,
   "metadata": {
    "colab": {
     "base_uri": "https://localhost:8080/"
    },
    "id": "GB1TLvITmljO",
    "outputId": "5be0924f-2ef7-4ecb-85ca-6b9938b24f7e"
   },
   "outputs": [
    {
     "name": "stdout",
     "output_type": "stream",
     "text": [
      "+-------+------+-------+-----+-----------+--------------------+---+---+----+----+---+----------------+-------------+-------------+----------------+--------------------+-----------------+-----------------+--------------------+----+----+----+\n",
      "|prov_id|reg_id|dist_id| adm4|urban_rural|               hh_id|P03|P05|P07M|P07A|P08|lan_spoken_local|lan_spoken_fr|lan_spoken_en|lan_spoken_other|lan_read_write_local|lan_read_write_fr|lan_read_write_en|lan_read_write_other| P21|P22N| P23|\n",
      "+-------+------+-------+-----+-----------+--------------------+---+---+----+----+---+----------------+-------------+-------------+----------------+--------------------+-----------------+-----------------+--------------------+----+----+----+\n",
      "|      1|    11|    111|11101|          1|11101101010011066...|  0|  1|  10|1954| 63|               1|            1|            2|               2|                   1|                1|                2|                   2|   1|   3|   6|\n",
      "|      1|    11|    111|11101|          1|11101101010011066...|  1|  2|   8|1950| 67|               1|            1|            2|               2|                   1|                1|                2|                   2|   1|   3|   6|\n",
      "|      1|    11|    111|11101|          1|11101101010011066...|  2|  1|   3|1980| 38|               1|            1|            1|               1|                   1|                1|                1|                   1|   1|   5|   1|\n",
      "|      1|    11|    111|11101|          1|11101101010011066...|  2|  1|   9|1984| 33|               1|            1|            2|               2|                   1|                1|                2|                   2|   1|   5|   2|\n",
      "|      1|    11|    111|11101|          1|11101101010011066...|  0|  1|  12|1984| 33|               1|            1|            2|               2|                   1|                1|                2|                   2|   1|   5|   1|\n",
      "|      1|    11|    111|11101|          1|11101101010011066...|  1|  2|  10|1988| 29|               1|            1|            2|               2|                   1|                1|                2|                   2|   1|   5|   1|\n",
      "|      1|    11|    111|11101|          1|11101101010011066...|  2|  1|   7|2010|  7|               1|            1|            2|               2|                   1|                2|                2|                   2|   2|   2|   5|\n",
      "|      1|    11|    111|11101|          1|11101101010011066...|  2|  2|   7|2015|  2|            null|         null|         null|            null|                null|             null|             null|                null|null|null|null|\n",
      "|      1|    11|    111|11101|          1|11101101010011066...|  7|  2|  98|1999| 19|               1|            2|            2|               2|                   1|                2|                2|                   2|   1|   2|   8|\n",
      "|      1|    11|    111|11101|          1|11101101010011066...|  0|  1|  98|1943| 74|               1|            2|            2|               2|                   1|                2|                2|                   2|   1|   3|   6|\n",
      "|      1|    11|    111|11101|          1|11101101010011066...|  1|  2|  98|1952| 65|               1|            2|            2|               2|                   1|                2|                2|                   2|   1|   3|   6|\n",
      "|      1|    11|    111|11101|          1|11101101010011066...|  2|  1|  10|1982| 35|               1|            1|            2|               2|                   1|                1|                2|                   2|   1|   5|   1|\n",
      "|      1|    11|    111|11101|          1|11101101010011066...|  2|  1|   3|1992| 26|               1|            1|            2|               2|                   1|                1|                2|                   2|   1|   5|   1|\n",
      "|      1|    11|    111|11101|          1|11101101010011066...|  5|  2|  98|1990| 27|               1|            1|            2|               2|                   1|                1|                2|                   2|   1|   5|   1|\n",
      "|      1|    11|    111|11101|          1|11101101010011066...|  7|  2|  98|1943| 74|               1|            2|            2|               2|                   1|                2|                2|                   2|   1|   3|   6|\n",
      "|      1|    11|    111|11101|          1|11101101010011066...|  7|  1|  10|1995| 22|               1|            2|            2|               2|                   1|                2|                2|                   2|   2|   3|   5|\n",
      "|      1|    11|    111|11101|          1|11101101010011066...|  7|  1|  98|1998| 19|               1|            2|            2|               2|                   1|                2|                2|                   2|   1|   2|   3|\n",
      "|      1|    11|    111|11101|          1|11101101010011066...|  0|  1|   1|1996| 22|               1|            1|            2|               2|                   1|                1|                2|                   2|   2|   5|   5|\n",
      "|      1|    11|    111|11101|          1|11101101010011066...|  7|  2|   9|2001| 17|               1|            1|            2|               2|                   1|                1|                2|                   2|   2|   3|   5|\n",
      "|      1|    11|    111|11101|          1|11101101010011066...|  0|  1|   2|1947| 70|               1|            1|            2|               2|                   1|                1|                2|                   2|   1|   3|   6|\n",
      "+-------+------+-------+-----+-----------+--------------------+---+---+----+----+---+----------------+-------------+-------------+----------------+--------------------+-----------------+-----------------+--------------------+----+----+----+\n",
      "only showing top 20 rows\n",
      "\n"
     ]
    }
   ],
   "source": [
    "sdf_null.show()"
   ]
  },
  {
   "cell_type": "code",
   "execution_count": 45,
   "metadata": {
    "colab": {
     "base_uri": "https://localhost:8080/"
    },
    "id": "-mofhVEn-vUU",
    "outputId": "076b835f-e4d4-4ba2-9adf-6227da910715"
   },
   "outputs": [
    {
     "name": "stdout",
     "output_type": "stream",
     "text": [
      "root\n",
      " |-- prov_id: integer (nullable = true)\n",
      " |-- reg_id: integer (nullable = true)\n",
      " |-- dist_id: integer (nullable = true)\n",
      " |-- adm4: integer (nullable = true)\n",
      " |-- urban_rural: integer (nullable = true)\n",
      " |-- hh_id: decimal(26,0) (nullable = true)\n",
      " |-- P03: integer (nullable = true)\n",
      " |-- P05: integer (nullable = true)\n",
      " |-- P07M: integer (nullable = true)\n",
      " |-- P07A: integer (nullable = true)\n",
      " |-- P08: string (nullable = true)\n",
      " |-- lan_spoken_local: string (nullable = true)\n",
      " |-- lan_spoken_fr: string (nullable = true)\n",
      " |-- lan_spoken_en: string (nullable = true)\n",
      " |-- lan_spoken_other: string (nullable = true)\n",
      " |-- lan_read_write_local: string (nullable = true)\n",
      " |-- lan_read_write_fr: string (nullable = true)\n",
      " |-- lan_read_write_en: string (nullable = true)\n",
      " |-- lan_read_write_other: string (nullable = true)\n",
      " |-- P21: string (nullable = true)\n",
      " |-- P22N: string (nullable = true)\n",
      " |-- P23: string (nullable = true)\n",
      "\n"
     ]
    }
   ],
   "source": [
    "#dropping the rows with missing observations\n",
    "sdf_null_out = sdf_null.dropna(how='any', thresh=None, subset=None)\n",
    "sdf_null_out.printSchema()"
   ]
  },
  {
   "cell_type": "code",
   "execution_count": 46,
   "metadata": {
    "id": "KScGnjmp-vOE"
   },
   "outputs": [],
   "source": [
    "#check if there are still missing values\n",
    "sdf1 = sdf_null_out.select([count(when(col(c).contains('None') | \\\n",
    "                            col(c).contains('NULL') | \\\n",
    "                            (col(c) == ' ' ) | \\\n",
    "                            col(c).isNull() | \\\n",
    "                            isnan(c), c \n",
    "                           )).alias(c)\n",
    "                    for c in sdf_null_out.columns])"
   ]
  },
  {
   "cell_type": "code",
   "execution_count": 47,
   "metadata": {
    "colab": {
     "base_uri": "https://localhost:8080/"
    },
    "id": "6NprNj3VlIaT",
    "outputId": "4c78c3e5-8c22-458f-eda8-7bdd221191c4"
   },
   "outputs": [
    {
     "name": "stdout",
     "output_type": "stream",
     "text": [
      "+-------+------+-------+----+-----------+-----+---+---+----+----+---+----------------+-------------+-------------+----------------+--------------------+-----------------+-----------------+--------------------+---+----+---+\n",
      "|prov_id|reg_id|dist_id|adm4|urban_rural|hh_id|P03|P05|P07M|P07A|P08|lan_spoken_local|lan_spoken_fr|lan_spoken_en|lan_spoken_other|lan_read_write_local|lan_read_write_fr|lan_read_write_en|lan_read_write_other|P21|P22N|P23|\n",
      "+-------+------+-------+----+-----------+-----+---+---+----+----+---+----------------+-------------+-------------+----------------+--------------------+-----------------+-----------------+--------------------+---+----+---+\n",
      "|      0|     0|      0|   0|          0|    0|  0|  0|   0|   0|  0|               0|            0|            0|               0|                   0|                0|                0|                   0|  0|   0|  0|\n",
      "+-------+------+-------+----+-----------+-----+---+---+----+----+---+----------------+-------------+-------------+----------------+--------------------+-----------------+-----------------+--------------------+---+----+---+\n",
      "\n"
     ]
    }
   ],
   "source": [
    "sdf1.show()"
   ]
  },
  {
   "cell_type": "code",
   "execution_count": 48,
   "metadata": {
    "id": "hRjQN90QXd53"
   },
   "outputs": [],
   "source": [
    "sdf2 = sdf_null_out"
   ]
  },
  {
   "cell_type": "markdown",
   "metadata": {
    "id": "NRjm6mAwCoSc"
   },
   "source": [
    "Now that we have cleaned the missing values, we can proceed in building the model. We are using linear regression. If we have enough time, we may train other algorith."
   ]
  },
  {
   "cell_type": "code",
   "execution_count": 49,
   "metadata": {
    "colab": {
     "base_uri": "https://localhost:8080/"
    },
    "id": "se8tMfhPmB6N",
    "outputId": "b8a3b300-3264-48a6-a912-ce074e1d20c0"
   },
   "outputs": [
    {
     "name": "stdout",
     "output_type": "stream",
     "text": [
      "root\n",
      " |-- prov_id: integer (nullable = true)\n",
      " |-- reg_id: integer (nullable = true)\n",
      " |-- dist_id: integer (nullable = true)\n",
      " |-- adm4: integer (nullable = true)\n",
      " |-- urban_rural: integer (nullable = true)\n",
      " |-- hh_id: decimal(26,0) (nullable = true)\n",
      " |-- P03: integer (nullable = true)\n",
      " |-- P05: integer (nullable = true)\n",
      " |-- P07M: integer (nullable = true)\n",
      " |-- P07A: integer (nullable = true)\n",
      " |-- P08: string (nullable = true)\n",
      " |-- lan_spoken_local: string (nullable = true)\n",
      " |-- lan_spoken_fr: string (nullable = true)\n",
      " |-- lan_spoken_en: string (nullable = true)\n",
      " |-- lan_spoken_other: string (nullable = true)\n",
      " |-- lan_read_write_local: string (nullable = true)\n",
      " |-- lan_read_write_fr: string (nullable = true)\n",
      " |-- lan_read_write_en: string (nullable = true)\n",
      " |-- lan_read_write_other: string (nullable = true)\n",
      " |-- P21: string (nullable = true)\n",
      " |-- P22N: string (nullable = true)\n",
      " |-- P23: string (nullable = true)\n",
      "\n"
     ]
    }
   ],
   "source": [
    "# After droping the columns we inspect again the structure of the dataset\n",
    "sdf2.printSchema()"
   ]
  },
  {
   "cell_type": "code",
   "execution_count": 50,
   "metadata": {
    "colab": {
     "base_uri": "https://localhost:8080/",
     "height": 363
    },
    "id": "_6dFpUEHmB3E",
    "outputId": "a1f21bce-70c6-4972-8802-80a048f0a62a"
   },
   "outputs": [
    {
     "data": {
      "text/html": [
       "\n",
       "  <div id=\"df-21d5e764-afa7-4897-b6df-7da598b56b66\">\n",
       "    <div class=\"colab-df-container\">\n",
       "      <div>\n",
       "<style scoped>\n",
       "    .dataframe tbody tr th:only-of-type {\n",
       "        vertical-align: middle;\n",
       "    }\n",
       "\n",
       "    .dataframe tbody tr th {\n",
       "        vertical-align: top;\n",
       "    }\n",
       "\n",
       "    .dataframe thead th {\n",
       "        text-align: right;\n",
       "    }\n",
       "</style>\n",
       "<table border=\"1\" class=\"dataframe\">\n",
       "  <thead>\n",
       "    <tr style=\"text-align: right;\">\n",
       "      <th></th>\n",
       "      <th>0</th>\n",
       "      <th>1</th>\n",
       "      <th>2</th>\n",
       "      <th>3</th>\n",
       "      <th>4</th>\n",
       "    </tr>\n",
       "  </thead>\n",
       "  <tbody>\n",
       "    <tr>\n",
       "      <th>summary</th>\n",
       "      <td>count</td>\n",
       "      <td>mean</td>\n",
       "      <td>stddev</td>\n",
       "      <td>min</td>\n",
       "      <td>max</td>\n",
       "    </tr>\n",
       "    <tr>\n",
       "      <th>prov_id</th>\n",
       "      <td>17175742</td>\n",
       "      <td>2.700236065492833</td>\n",
       "      <td>1.6630628095987892</td>\n",
       "      <td>1</td>\n",
       "      <td>6</td>\n",
       "    </tr>\n",
       "    <tr>\n",
       "      <th>reg_id</th>\n",
       "      <td>17175742</td>\n",
       "      <td>28.97242669341447</td>\n",
       "      <td>16.6492342262855</td>\n",
       "      <td>11</td>\n",
       "      <td>62</td>\n",
       "    </tr>\n",
       "    <tr>\n",
       "      <th>dist_id</th>\n",
       "      <td>17175742</td>\n",
       "      <td>292.98405186803575</td>\n",
       "      <td>166.3294675639007</td>\n",
       "      <td>111</td>\n",
       "      <td>624</td>\n",
       "    </tr>\n",
       "    <tr>\n",
       "      <th>adm4</th>\n",
       "      <td>17175742</td>\n",
       "      <td>29306.41254543763</td>\n",
       "      <td>16632.953163784536</td>\n",
       "      <td>11101</td>\n",
       "      <td>62418</td>\n",
       "    </tr>\n",
       "    <tr>\n",
       "      <th>urban_rural</th>\n",
       "      <td>17175742</td>\n",
       "      <td>1.7623886059769645</td>\n",
       "      <td>0.42561981861802883</td>\n",
       "      <td>1</td>\n",
       "      <td>2</td>\n",
       "    </tr>\n",
       "    <tr>\n",
       "      <th>P03</th>\n",
       "      <td>17175742</td>\n",
       "      <td>1.8491634306104505</td>\n",
       "      <td>2.015562723584839</td>\n",
       "      <td>0</td>\n",
       "      <td>9</td>\n",
       "    </tr>\n",
       "    <tr>\n",
       "      <th>P05</th>\n",
       "      <td>17175742</td>\n",
       "      <td>1.502947238029076</td>\n",
       "      <td>0.49999132826770804</td>\n",
       "      <td>1</td>\n",
       "      <td>2</td>\n",
       "    </tr>\n",
       "    <tr>\n",
       "      <th>P07M</th>\n",
       "      <td>17175742</td>\n",
       "      <td>25.081489288788806</td>\n",
       "      <td>37.446624338084014</td>\n",
       "      <td>1</td>\n",
       "      <td>99</td>\n",
       "    </tr>\n",
       "    <tr>\n",
       "      <th>P07A</th>\n",
       "      <td>17175742</td>\n",
       "      <td>2584.5630223136795</td>\n",
       "      <td>2096.1860310969887</td>\n",
       "      <td>1890</td>\n",
       "      <td>9999</td>\n",
       "    </tr>\n",
       "  </tbody>\n",
       "</table>\n",
       "</div>\n",
       "      <button class=\"colab-df-convert\" onclick=\"convertToInteractive('df-21d5e764-afa7-4897-b6df-7da598b56b66')\"\n",
       "              title=\"Convert this dataframe to an interactive table.\"\n",
       "              style=\"display:none;\">\n",
       "        \n",
       "  <svg xmlns=\"http://www.w3.org/2000/svg\" height=\"24px\"viewBox=\"0 0 24 24\"\n",
       "       width=\"24px\">\n",
       "    <path d=\"M0 0h24v24H0V0z\" fill=\"none\"/>\n",
       "    <path d=\"M18.56 5.44l.94 2.06.94-2.06 2.06-.94-2.06-.94-.94-2.06-.94 2.06-2.06.94zm-11 1L8.5 8.5l.94-2.06 2.06-.94-2.06-.94L8.5 2.5l-.94 2.06-2.06.94zm10 10l.94 2.06.94-2.06 2.06-.94-2.06-.94-.94-2.06-.94 2.06-2.06.94z\"/><path d=\"M17.41 7.96l-1.37-1.37c-.4-.4-.92-.59-1.43-.59-.52 0-1.04.2-1.43.59L10.3 9.45l-7.72 7.72c-.78.78-.78 2.05 0 2.83L4 21.41c.39.39.9.59 1.41.59.51 0 1.02-.2 1.41-.59l7.78-7.78 2.81-2.81c.8-.78.8-2.07 0-2.86zM5.41 20L4 18.59l7.72-7.72 1.47 1.35L5.41 20z\"/>\n",
       "  </svg>\n",
       "      </button>\n",
       "      \n",
       "  <style>\n",
       "    .colab-df-container {\n",
       "      display:flex;\n",
       "      flex-wrap:wrap;\n",
       "      gap: 12px;\n",
       "    }\n",
       "\n",
       "    .colab-df-convert {\n",
       "      background-color: #E8F0FE;\n",
       "      border: none;\n",
       "      border-radius: 50%;\n",
       "      cursor: pointer;\n",
       "      display: none;\n",
       "      fill: #1967D2;\n",
       "      height: 32px;\n",
       "      padding: 0 0 0 0;\n",
       "      width: 32px;\n",
       "    }\n",
       "\n",
       "    .colab-df-convert:hover {\n",
       "      background-color: #E2EBFA;\n",
       "      box-shadow: 0px 1px 2px rgba(60, 64, 67, 0.3), 0px 1px 3px 1px rgba(60, 64, 67, 0.15);\n",
       "      fill: #174EA6;\n",
       "    }\n",
       "\n",
       "    [theme=dark] .colab-df-convert {\n",
       "      background-color: #3B4455;\n",
       "      fill: #D2E3FC;\n",
       "    }\n",
       "\n",
       "    [theme=dark] .colab-df-convert:hover {\n",
       "      background-color: #434B5C;\n",
       "      box-shadow: 0px 1px 3px 1px rgba(0, 0, 0, 0.15);\n",
       "      filter: drop-shadow(0px 1px 2px rgba(0, 0, 0, 0.3));\n",
       "      fill: #FFFFFF;\n",
       "    }\n",
       "  </style>\n",
       "\n",
       "      <script>\n",
       "        const buttonEl =\n",
       "          document.querySelector('#df-21d5e764-afa7-4897-b6df-7da598b56b66 button.colab-df-convert');\n",
       "        buttonEl.style.display =\n",
       "          google.colab.kernel.accessAllowed ? 'block' : 'none';\n",
       "\n",
       "        async function convertToInteractive(key) {\n",
       "          const element = document.querySelector('#df-21d5e764-afa7-4897-b6df-7da598b56b66');\n",
       "          const dataTable =\n",
       "            await google.colab.kernel.invokeFunction('convertToInteractive',\n",
       "                                                     [key], {});\n",
       "          if (!dataTable) return;\n",
       "\n",
       "          const docLinkHtml = 'Like what you see? Visit the ' +\n",
       "            '<a target=\"_blank\" href=https://colab.research.google.com/notebooks/data_table.ipynb>data table notebook</a>'\n",
       "            + ' to learn more about interactive tables.';\n",
       "          element.innerHTML = '';\n",
       "          dataTable['output_type'] = 'display_data';\n",
       "          await google.colab.output.renderOutput(dataTable, element);\n",
       "          const docLink = document.createElement('div');\n",
       "          docLink.innerHTML = docLinkHtml;\n",
       "          element.appendChild(docLink);\n",
       "        }\n",
       "      </script>\n",
       "    </div>\n",
       "  </div>\n",
       "  "
      ],
      "text/plain": [
       "                    0                   1                    2      3      4\n",
       "summary         count                mean               stddev    min    max\n",
       "prov_id      17175742   2.700236065492833   1.6630628095987892      1      6\n",
       "reg_id       17175742   28.97242669341447     16.6492342262855     11     62\n",
       "dist_id      17175742  292.98405186803575    166.3294675639007    111    624\n",
       "adm4         17175742   29306.41254543763   16632.953163784536  11101  62418\n",
       "urban_rural  17175742  1.7623886059769645  0.42561981861802883      1      2\n",
       "P03          17175742  1.8491634306104505    2.015562723584839      0      9\n",
       "P05          17175742   1.502947238029076  0.49999132826770804      1      2\n",
       "P07M         17175742  25.081489288788806   37.446624338084014      1     99\n",
       "P07A         17175742  2584.5630223136795   2096.1860310969887   1890   9999"
      ]
     },
     "execution_count": 50,
     "metadata": {},
     "output_type": "execute_result"
    }
   ],
   "source": [
    "# Using pandas, we want to do a summary table of the numerical variable of the modified dataset\n",
    "num_feat = [t[0] for t in sdf2.dtypes if t[1] == 'int']\n",
    "sdf2.select(num_feat).describe().toPandas().transpose()"
   ]
  },
  {
   "cell_type": "code",
   "execution_count": 51,
   "metadata": {
    "colab": {
     "base_uri": "https://localhost:8080/"
    },
    "id": "Mn4QFcMZmBwy",
    "outputId": "5a596add-673e-4161-c74f-671a838ede6a"
   },
   "outputs": [
    {
     "name": "stdout",
     "output_type": "stream",
     "text": [
      "root\n",
      " |-- prov_id: integer (nullable = true)\n",
      " |-- reg_id: integer (nullable = true)\n",
      " |-- dist_id: integer (nullable = true)\n",
      " |-- adm4: integer (nullable = true)\n",
      " |-- urban_rural: integer (nullable = true)\n",
      " |-- hh_id: decimal(26,0) (nullable = true)\n",
      " |-- P03: integer (nullable = true)\n",
      " |-- P05: integer (nullable = true)\n",
      " |-- P07M: integer (nullable = true)\n",
      " |-- P07A: integer (nullable = true)\n",
      " |-- P08: string (nullable = true)\n",
      " |-- lan_spoken_local: string (nullable = true)\n",
      " |-- lan_spoken_fr: string (nullable = true)\n",
      " |-- lan_spoken_en: string (nullable = true)\n",
      " |-- lan_spoken_other: string (nullable = true)\n",
      " |-- lan_read_write_local: string (nullable = true)\n",
      " |-- lan_read_write_fr: string (nullable = true)\n",
      " |-- lan_read_write_en: string (nullable = true)\n",
      " |-- lan_read_write_other: string (nullable = true)\n",
      " |-- P21: string (nullable = true)\n",
      " |-- P22N: string (nullable = true)\n",
      " |-- P23: string (nullable = true)\n",
      "\n"
     ]
    }
   ],
   "source": [
    "# Here we are selecting the column we are going to build our model with and bind them into a new dataset\n",
    "# We also look into the structure of this new dataset to determine if is the same with the previous\n",
    "df = sdf2.select('prov_id','reg_id',\n",
    "    'dist_id','adm4','urban_rural',\n",
    "    'hh_id','P03','P05','P07M',\n",
    "    'P07A','P08','lan_spoken_local',\n",
    "    'lan_spoken_fr','lan_spoken_en','lan_spoken_other',\n",
    "    'lan_read_write_local','lan_read_write_fr','lan_read_write_en',\n",
    "    'lan_read_write_other','P21','P22N','P23')\n",
    "cols = df.columns\n",
    "df.printSchema()"
   ]
  },
  {
   "cell_type": "code",
   "execution_count": 52,
   "metadata": {
    "id": "KH8vBzzYmBtk"
   },
   "outputs": [],
   "source": [
    "# Our ML model cannot learn from string. To solve this issue, we transform these string into ML column of label indices from which the\n",
    "# ML model can lear. Onehotencoder encodes ctegorical numerical features as one-hot numeric array\n",
    "#Vectorassembler is helping us to assemble the indices arrays, and the numeric column we had into one vector \n",
    "categoricalColumns = ['P08','lan_spoken_local','lan_spoken_fr','lan_spoken_en','lan_spoken_other',\n",
    "    'lan_read_write_local','lan_read_write_fr','lan_read_write_en','lan_read_write_other','P21','P23']\n",
    "stages = []\n",
    "for categoricalCol in categoricalColumns:\n",
    "    stringIndexer = StringIndexer(inputCol = categoricalCol, outputCol = categoricalCol + 'Index')\n",
    "    encoder = OneHotEncoder(inputCols=[stringIndexer.getOutputCol()], outputCols=[categoricalCol + \"classVec\"])\n",
    "    stages += [stringIndexer, encoder]\n",
    "label_stringIdx = StringIndexer(inputCol = 'P22N', outputCol = 'label')\n",
    "stages += [label_stringIdx]\n",
    "numericCols = ['prov_id','reg_id','dist_id','adm4','urban_rural','hh_id','P03','P05','P07M','P07A']\n",
    "assemblerInputs = [c + \"classVec\" for c in categoricalColumns] + numericCols\n",
    "assembler = VectorAssembler(inputCols=assemblerInputs, outputCol=\"features\")\n",
    "stages += [assembler]"
   ]
  },
  {
   "cell_type": "code",
   "execution_count": 53,
   "metadata": {
    "id": "ZEgDsk_nmBqa"
   },
   "outputs": [],
   "source": [
    "#A pipeline is a specified sequeence of stages and each stage is either a transformer or anestimator\n",
    "#The pipeline and pipelineModel help to ensure that training and test data go through identical feature processing steps\n",
    "pipeline1 = Pipeline(stages = stages)"
   ]
  },
  {
   "cell_type": "code",
   "execution_count": 54,
   "metadata": {
    "id": "_4eIgv2umBnm"
   },
   "outputs": [],
   "source": [
    "pipelineModel = pipeline1.fit(df)"
   ]
  },
  {
   "cell_type": "code",
   "execution_count": 35,
   "metadata": {
    "id": "w7mjOVU6mBlD"
   },
   "outputs": [],
   "source": [
    "df = pipelineModel.transform(df)"
   ]
  },
  {
   "cell_type": "code",
   "execution_count": 36,
   "metadata": {
    "id": "kNHUbgdYmBfj"
   },
   "outputs": [],
   "source": [
    "selectedCols = ['label', 'features'] + cols"
   ]
  },
  {
   "cell_type": "code",
   "execution_count": 37,
   "metadata": {
    "id": "_-hcrWOUmBcs"
   },
   "outputs": [],
   "source": [
    "df = df.select(selectedCols)"
   ]
  },
  {
   "cell_type": "code",
   "execution_count": 38,
   "metadata": {
    "colab": {
     "base_uri": "https://localhost:8080/"
    },
    "id": "cmRBo3L_mBLC",
    "outputId": "7ee8fb94-4d07-4bb7-8a4d-4c12fd0528b0"
   },
   "outputs": [
    {
     "name": "stdout",
     "output_type": "stream",
     "text": [
      "root\n",
      " |-- label: double (nullable = false)\n",
      " |-- features: vector (nullable = true)\n",
      " |-- prov_id: integer (nullable = true)\n",
      " |-- reg_id: integer (nullable = true)\n",
      " |-- dist_id: integer (nullable = true)\n",
      " |-- adm4: integer (nullable = true)\n",
      " |-- urban_rural: integer (nullable = true)\n",
      " |-- hh_id: decimal(26,0) (nullable = true)\n",
      " |-- P03: integer (nullable = true)\n",
      " |-- P05: integer (nullable = true)\n",
      " |-- P07M: integer (nullable = true)\n",
      " |-- P07A: integer (nullable = true)\n",
      " |-- P08: string (nullable = true)\n",
      " |-- lan_spoken_local: string (nullable = true)\n",
      " |-- lan_spoken_fr: string (nullable = true)\n",
      " |-- lan_spoken_en: string (nullable = true)\n",
      " |-- lan_spoken_other: string (nullable = true)\n",
      " |-- lan_read_write_local: string (nullable = true)\n",
      " |-- lan_read_write_fr: string (nullable = true)\n",
      " |-- lan_read_write_en: string (nullable = true)\n",
      " |-- lan_read_write_other: string (nullable = true)\n",
      " |-- P21: string (nullable = true)\n",
      " |-- P22N: string (nullable = true)\n",
      " |-- P23: string (nullable = true)\n",
      "\n"
     ]
    }
   ],
   "source": [
    "df.printSchema()"
   ]
  },
  {
   "cell_type": "code",
   "execution_count": 39,
   "metadata": {
    "id": "4NqV4bIqmBIE"
   },
   "outputs": [],
   "source": [
    "#Wedivide the dataset into training and testing with ration 0.7 and 0.3 respectively\n",
    "train, test = df.randomSplit([0.7, 0.3], seed = 2018)"
   ]
  },
  {
   "cell_type": "code",
   "execution_count": 40,
   "metadata": {
    "id": "pxYYY1lwh_Wr"
   },
   "outputs": [],
   "source": [
    "#We instantiate the model by defining what are the features and what is the response\n",
    "lr = LogisticRegression(featuresCol = 'features', labelCol = 'label', maxIter=10)"
   ]
  },
  {
   "cell_type": "code",
   "execution_count": null,
   "metadata": {
    "id": "xOmTAyVNyHlN"
   },
   "outputs": [],
   "source": [
    "#We fit the train into the logistic regression algorithm \n",
    "lrModel = lr.fit(train)"
   ]
  },
  {
   "cell_type": "code",
   "execution_count": 37,
   "metadata": {
    "id": "4UmQvZz8oYkq"
   },
   "outputs": [],
   "source": [
    "beta = lrModel.coefficientMatrix"
   ]
  },
  {
   "cell_type": "code",
   "execution_count": 46,
   "metadata": {
    "id": "D7o6uMPh0nPU"
   },
   "outputs": [],
   "source": [
    "trainingSummary = lrModel.summary"
   ]
  },
  {
   "cell_type": "code",
   "execution_count": 49,
   "metadata": {
    "colab": {
     "base_uri": "https://localhost:8080/"
    },
    "id": "E86nDH-E0sU7",
    "outputId": "6e97bb13-b37d-4e59-a39a-55a52732ad16"
   },
   "outputs": [
    {
     "data": {
      "text/plain": [
       "0.8392590863202651"
      ]
     },
     "execution_count": 49,
     "metadata": {},
     "output_type": "execute_result"
    }
   ],
   "source": [
    "#Now that we have train the model, we want to evaluate the performance We use some metric to evaluate the performance\n",
    "trainingSummary.accuracy"
   ]
  },
  {
   "cell_type": "code",
   "execution_count": null,
   "metadata": {
    "id": "d7TnA2fPyMsb"
   },
   "outputs": [],
   "source": [
    "#Let's make prediction on the test set\n",
    "predictions = lrModel.transform(test)"
   ]
  },
  {
   "cell_type": "code",
   "execution_count": null,
   "metadata": {
    "id": "U0g4gKDvztdG"
   },
   "outputs": [],
   "source": []
  }
 ],
 "metadata": {
  "accelerator": "GPU",
  "colab": {
   "provenance": []
  },
  "gpuClass": "standard",
  "kernelspec": {
   "display_name": "Python 3 (ipykernel)",
   "language": "python",
   "name": "python3"
  },
  "language_info": {
   "codemirror_mode": {
    "name": "ipython",
    "version": 3
   },
   "file_extension": ".py",
   "mimetype": "text/x-python",
   "name": "python",
   "nbconvert_exporter": "python",
   "pygments_lexer": "ipython3",
   "version": "3.9.13"
  }
 },
 "nbformat": 4,
 "nbformat_minor": 1
}
